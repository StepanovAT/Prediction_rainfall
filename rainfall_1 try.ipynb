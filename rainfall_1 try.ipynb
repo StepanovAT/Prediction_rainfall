{
 "cells": [
  {
   "cell_type": "markdown",
   "id": "ed6e2562-e380-4ca2-beba-6afc7a9b1625",
   "metadata": {},
   "source": [
    "# Import Libraries"
   ]
  },
  {
   "cell_type": "code",
   "execution_count": 1,
   "id": "684d496c-43a8-4e16-bf60-972245203034",
   "metadata": {},
   "outputs": [],
   "source": [
    "import pandas as pd\n",
    "import numpy as np\n",
    "from sklearn.linear_model import LogisticRegression\n",
    "from sklearn.neighbors import KNeighborsClassifier\n",
    "from sklearn.ensemble import RandomForestClassifier, GradientBoostingClassifier\n",
    "from sklearn.metrics import accuracy_score\n",
    "from sklearn.preprocessing import MinMaxScaler\n",
    "from sklearn.model_selection import GridSearchCV,train_test_split\n",
    "from sklearn.decomposition import PCA"
   ]
  },
  {
   "cell_type": "markdown",
   "id": "9e9bc40e-43c7-47aa-bcb9-f09f21b5caeb",
   "metadata": {},
   "source": [
    "## Reading data"
   ]
  },
  {
   "cell_type": "code",
   "execution_count": 2,
   "id": "193df7ed-03f5-4014-8285-c83e9f0f55a8",
   "metadata": {},
   "outputs": [
    {
     "name": "stdout",
     "output_type": "stream",
     "text": [
      "<class 'pandas.core.frame.DataFrame'>\n",
      "RangeIndex: 2190 entries, 0 to 2189\n",
      "Data columns (total 13 columns):\n",
      " #   Column         Non-Null Count  Dtype  \n",
      "---  ------         --------------  -----  \n",
      " 0   id             2190 non-null   int64  \n",
      " 1   day            2190 non-null   int64  \n",
      " 2   pressure       2190 non-null   float64\n",
      " 3   maxtemp        2190 non-null   float64\n",
      " 4   temparature    2190 non-null   float64\n",
      " 5   mintemp        2190 non-null   float64\n",
      " 6   dewpoint       2190 non-null   float64\n",
      " 7   humidity       2190 non-null   float64\n",
      " 8   cloud          2190 non-null   float64\n",
      " 9   sunshine       2190 non-null   float64\n",
      " 10  winddirection  2190 non-null   float64\n",
      " 11  windspeed      2190 non-null   float64\n",
      " 12  rainfall       2190 non-null   int64  \n",
      "dtypes: float64(10), int64(3)\n",
      "memory usage: 222.5 KB\n"
     ]
    }
   ],
   "source": [
    "train = pd.read_csv(\"train.csv\")\n",
    "train.info()"
   ]
  },
  {
   "cell_type": "code",
   "execution_count": 3,
   "id": "435f8cca-8be5-4c9a-8ccf-c139756cb7f9",
   "metadata": {},
   "outputs": [
    {
     "data": {
      "text/html": [
       "<div>\n",
       "<style scoped>\n",
       "    .dataframe tbody tr th:only-of-type {\n",
       "        vertical-align: middle;\n",
       "    }\n",
       "\n",
       "    .dataframe tbody tr th {\n",
       "        vertical-align: top;\n",
       "    }\n",
       "\n",
       "    .dataframe thead th {\n",
       "        text-align: right;\n",
       "    }\n",
       "</style>\n",
       "<table border=\"1\" class=\"dataframe\">\n",
       "  <thead>\n",
       "    <tr style=\"text-align: right;\">\n",
       "      <th></th>\n",
       "      <th>id</th>\n",
       "      <th>day</th>\n",
       "      <th>pressure</th>\n",
       "      <th>maxtemp</th>\n",
       "      <th>temparature</th>\n",
       "      <th>mintemp</th>\n",
       "      <th>dewpoint</th>\n",
       "      <th>humidity</th>\n",
       "      <th>cloud</th>\n",
       "      <th>sunshine</th>\n",
       "      <th>winddirection</th>\n",
       "      <th>windspeed</th>\n",
       "      <th>rainfall</th>\n",
       "    </tr>\n",
       "  </thead>\n",
       "  <tbody>\n",
       "    <tr>\n",
       "      <th>0</th>\n",
       "      <td>0</td>\n",
       "      <td>1</td>\n",
       "      <td>1017.4</td>\n",
       "      <td>21.2</td>\n",
       "      <td>20.6</td>\n",
       "      <td>19.9</td>\n",
       "      <td>19.4</td>\n",
       "      <td>87.0</td>\n",
       "      <td>88.0</td>\n",
       "      <td>1.1</td>\n",
       "      <td>60.0</td>\n",
       "      <td>17.2</td>\n",
       "      <td>1</td>\n",
       "    </tr>\n",
       "    <tr>\n",
       "      <th>1</th>\n",
       "      <td>1</td>\n",
       "      <td>2</td>\n",
       "      <td>1019.5</td>\n",
       "      <td>16.2</td>\n",
       "      <td>16.9</td>\n",
       "      <td>15.8</td>\n",
       "      <td>15.4</td>\n",
       "      <td>95.0</td>\n",
       "      <td>91.0</td>\n",
       "      <td>0.0</td>\n",
       "      <td>50.0</td>\n",
       "      <td>21.9</td>\n",
       "      <td>1</td>\n",
       "    </tr>\n",
       "    <tr>\n",
       "      <th>2</th>\n",
       "      <td>2</td>\n",
       "      <td>3</td>\n",
       "      <td>1024.1</td>\n",
       "      <td>19.4</td>\n",
       "      <td>16.1</td>\n",
       "      <td>14.6</td>\n",
       "      <td>9.3</td>\n",
       "      <td>75.0</td>\n",
       "      <td>47.0</td>\n",
       "      <td>8.3</td>\n",
       "      <td>70.0</td>\n",
       "      <td>18.1</td>\n",
       "      <td>1</td>\n",
       "    </tr>\n",
       "    <tr>\n",
       "      <th>3</th>\n",
       "      <td>3</td>\n",
       "      <td>4</td>\n",
       "      <td>1013.4</td>\n",
       "      <td>18.1</td>\n",
       "      <td>17.8</td>\n",
       "      <td>16.9</td>\n",
       "      <td>16.8</td>\n",
       "      <td>95.0</td>\n",
       "      <td>95.0</td>\n",
       "      <td>0.0</td>\n",
       "      <td>60.0</td>\n",
       "      <td>35.6</td>\n",
       "      <td>1</td>\n",
       "    </tr>\n",
       "    <tr>\n",
       "      <th>4</th>\n",
       "      <td>4</td>\n",
       "      <td>5</td>\n",
       "      <td>1021.8</td>\n",
       "      <td>21.3</td>\n",
       "      <td>18.4</td>\n",
       "      <td>15.2</td>\n",
       "      <td>9.6</td>\n",
       "      <td>52.0</td>\n",
       "      <td>45.0</td>\n",
       "      <td>3.6</td>\n",
       "      <td>40.0</td>\n",
       "      <td>24.8</td>\n",
       "      <td>0</td>\n",
       "    </tr>\n",
       "  </tbody>\n",
       "</table>\n",
       "</div>"
      ],
      "text/plain": [
       "   id  day  pressure  maxtemp  temparature  mintemp  dewpoint  humidity  \\\n",
       "0   0    1    1017.4     21.2         20.6     19.9      19.4      87.0   \n",
       "1   1    2    1019.5     16.2         16.9     15.8      15.4      95.0   \n",
       "2   2    3    1024.1     19.4         16.1     14.6       9.3      75.0   \n",
       "3   3    4    1013.4     18.1         17.8     16.9      16.8      95.0   \n",
       "4   4    5    1021.8     21.3         18.4     15.2       9.6      52.0   \n",
       "\n",
       "   cloud  sunshine  winddirection  windspeed  rainfall  \n",
       "0   88.0       1.1           60.0       17.2         1  \n",
       "1   91.0       0.0           50.0       21.9         1  \n",
       "2   47.0       8.3           70.0       18.1         1  \n",
       "3   95.0       0.0           60.0       35.6         1  \n",
       "4   45.0       3.6           40.0       24.8         0  "
      ]
     },
     "execution_count": 3,
     "metadata": {},
     "output_type": "execute_result"
    }
   ],
   "source": [
    "train.head()"
   ]
  },
  {
   "cell_type": "markdown",
   "id": "5cfee164-9d38-4668-8669-e55bb8cfdd9f",
   "metadata": {},
   "source": [
    "## Clearing data from Null values"
   ]
  },
  {
   "cell_type": "code",
   "execution_count": 4,
   "id": "ae22e137-e824-444b-b724-4c97a6dc7eb3",
   "metadata": {},
   "outputs": [
    {
     "name": "stderr",
     "output_type": "stream",
     "text": [
      "C:\\Users\\Ainur\\AppData\\Local\\Temp\\ipykernel_5880\\893032505.py:3: FutureWarning: DataFrame.fillna with 'method' is deprecated and will raise in a future version. Use obj.ffill() or obj.bfill() instead.\n",
      "  train = train.fillna(method='bfill', axis = 1)\n"
     ]
    }
   ],
   "source": [
    "train.columns = train.columns.str.replace(' ', '')\n",
    "train = train[train.columns].copy()\n",
    "train = train.fillna(method='bfill', axis = 1)"
   ]
  },
  {
   "cell_type": "markdown",
   "id": "3b043a44-ed6b-4920-9c42-8e95c9af0f5a",
   "metadata": {},
   "source": [
    "## Preprocessing data"
   ]
  },
  {
   "cell_type": "code",
   "execution_count": 5,
   "id": "179e40a1-a794-4d64-8b83-34004af94926",
   "metadata": {},
   "outputs": [],
   "source": [
    "train = train.drop(columns=['maxtemp', 'mintemp', 'day'])\n",
    "train_data_X = train.copy()\n",
    "train_data_y = train_data_X.pop('rainfall')\n"
   ]
  },
  {
   "cell_type": "code",
   "execution_count": 6,
   "id": "ed9e63de-fb03-4086-a03e-389641778eda",
   "metadata": {},
   "outputs": [],
   "source": [
    "X_train, X_test, y_train, y_test = train_test_split(train_data_X, train_data_y,test_size=0.25, random_state=50)"
   ]
  },
  {
   "cell_type": "code",
   "execution_count": 7,
   "id": "763f7033-2618-48d7-bd94-5861ecd1bed7",
   "metadata": {},
   "outputs": [],
   "source": [
    "min_max_sc = MinMaxScaler()\n",
    "train_data_X = min_max_sc.fit_transform(X_train)\n",
    "X_test_sc = min_max_sc.transform(X_test)"
   ]
  },
  {
   "cell_type": "code",
   "execution_count": 8,
   "id": "9711bf24-89d2-4254-a1c6-32d4ceab6360",
   "metadata": {},
   "outputs": [
    {
     "data": {
      "text/plain": [
       "array([[0.20922796, 0.39325843, 0.76763485, ..., 0.01652893, 0.10344828,\n",
       "        0.18330309],\n",
       "       [0.33257195, 0.58146067, 0.36099585, ..., 0.        , 0.24137931,\n",
       "        0.61524501],\n",
       "       [0.41434445, 0.26404494, 0.94190871, ..., 0.63636364, 0.65517241,\n",
       "        0.21960073],\n",
       "       ...,\n",
       "       [0.24577433, 0.25561798, 0.9626556 , ..., 0.16528926, 0.62068966,\n",
       "        0.15245009],\n",
       "       [0.82457743, 0.5       , 0.61410788, ..., 0.37190083, 0.24137931,\n",
       "        0.38294011],\n",
       "       [0.80356327, 0.55898876, 0.67634855, ..., 0.23966942, 0.13793103,\n",
       "        0.3738657 ]], shape=(548, 9))"
      ]
     },
     "execution_count": 8,
     "metadata": {},
     "output_type": "execute_result"
    }
   ],
   "source": [
    "X_test_sc"
   ]
  },
  {
   "cell_type": "code",
   "execution_count": 9,
   "id": "97d7c9f2-60a9-4265-a36c-d1a5c403dd38",
   "metadata": {},
   "outputs": [],
   "source": [
    "rca = PCA()\n",
    "X_train_sc = rca.fit_transform(X_train_sc)\n",
    "X_test_sc = rca.transform(X_test_sc)"
   ]
  },
  {
   "cell_type": "code",
   "execution_count": 10,
   "id": "a514c837-d1e2-47e6-b5bb-beb2e980da1b",
   "metadata": {},
   "outputs": [
    {
     "name": "stderr",
     "output_type": "stream",
     "text": [
      "C:\\Users\\Ainur\\AppData\\Local\\Temp\\ipykernel_5880\\3602303759.py:4: FutureWarning: DataFrame.fillna with 'method' is deprecated and will raise in a future version. Use obj.ffill() or obj.bfill() instead.\n",
      "  test = test.fillna(method='bfill', axis = 1)\n"
     ]
    }
   ],
   "source": [
    "test = pd.read_csv(\"test.csv\")\n",
    "test.columns = test.columns.str.replace(' ', '')\n",
    "test = test[test.columns].copy()\n",
    "test = test.fillna(method='bfill', axis = 1)\n",
    "test = test.drop(columns=['maxtemp', 'mintemp', 'day'])\n",
    "test = min_max_sc.transform(test)\n",
    "test = rca.transform(test)"
   ]
  },
  {
   "cell_type": "markdown",
   "id": "193b6f8c-b9a6-473e-8059-c79fe29ee097",
   "metadata": {},
   "source": [
    "### Function for serching best model and hyperparameters"
   ]
  },
  {
   "cell_type": "code",
   "execution_count": 11,
   "id": "cdb6d1d7-d780-4fc0-96fc-2bcc38f77f40",
   "metadata": {},
   "outputs": [],
   "source": [
    "def training_model(model, params, train_data_X, train_data_y,test_data_X, test_data_y):\n",
    "    grid_search = GridSearchCV(model, params, cv=5, refit = True)\n",
    "    grid_search.fit(train_data_X, train_data_y)\n",
    "    predict_test = grid_search.predict(test_data_X)\n",
    "    acc = accuracy_score(y_test, predict_test)\n",
    "    return  grid_search, acc\n",
    "    \n",
    "    "
   ]
  },
  {
   "cell_type": "code",
   "execution_count": 12,
   "id": "a801566e-2ed9-4e7e-a4ad-bae795fd5518",
   "metadata": {},
   "outputs": [],
   "source": [
    "models_list = [LogisticRegression(), KNeighborsClassifier(), RandomForestClassifier(), GradientBoostingClassifier()]\n",
    "log_reg_params = {\n",
    "    \"penalty\":[\"l1\", \"l2\", None],\n",
    "    \"solver\":  [\"saga\"],\n",
    "    \"fit_intercept\": [True, False],\n",
    "    'max_iter': [100, 1000, 2500, 5000],\n",
    "    \n",
    "}\n",
    "rand_for_params = {\n",
    "    'n_estimators': [50, 100, 150, 200],\n",
    "    'criterion':['gini', 'entropy', 'log_loss'],\n",
    "    'max_depth': [None,5,10,15,20],\n",
    "    'min_samples_leaf': [1, 2, 4],\n",
    "    \"max_leaf_nodes\": [None, 2, 3, 4, 5]\n",
    "}\n",
    "\n",
    "knn_params = {\n",
    "    'n_neighbors' : [5,7,9,11,13,15],\n",
    "    'weights' : ['uniform','distance'],\n",
    "    'metric' : ['minkowski','euclidean','manhattan'],\n",
    "    'algorithm': ['auto', 'ball_tree', 'kd_tree', 'brute']\n",
    "}\n",
    "gb_params = {\n",
    "    'loss': ['log_loss', 'exponential'],\n",
    "    'learning_rate': [0.001, 0.1, 1, 10],\n",
    "    'n_estimators': [100, 150, 180, 200],\n",
    "    'criterion' : ['friedman_mse', 'squared_error'],\n",
    "    'max_depth': [None,5,10,15,20],\n",
    "    'min_samples_leaf': [1, 2, 4]\n",
    "}\n",
    "params_list = [log_reg_params,knn_params, rand_for_params, gb_params]"
   ]
  },
  {
   "cell_type": "markdown",
   "id": "94a23035-6333-4e1e-aa86-be23c9440bf4",
   "metadata": {},
   "source": [
    "### Learning"
   ]
  },
  {
   "cell_type": "code",
   "execution_count": 1,
   "id": "5bdf0b86-cb60-4288-b5a5-d6de74c8d9d5",
   "metadata": {},
   "outputs": [
    {
     "ename": "NameError",
     "evalue": "name 'models_list' is not defined",
     "output_type": "error",
     "traceback": [
      "\u001b[1;31m---------------------------------------------------------------------------\u001b[0m",
      "\u001b[1;31mNameError\u001b[0m                                 Traceback (most recent call last)",
      "Cell \u001b[1;32mIn[1], line 2\u001b[0m\n\u001b[0;32m      1\u001b[0m models_results \u001b[38;5;241m=\u001b[39m {}\n\u001b[1;32m----> 2\u001b[0m \u001b[38;5;28;01mfor\u001b[39;00m model,params \u001b[38;5;129;01min\u001b[39;00m \u001b[38;5;28mzip\u001b[39m(\u001b[43mmodels_list\u001b[49m,params_list):\n\u001b[0;32m      3\u001b[0m     est, acc \u001b[38;5;241m=\u001b[39m training_model(model,params,X_train_sc,y_train)\n\u001b[0;32m      4\u001b[0m     models_results[est\u001b[38;5;241m.\u001b[39m\u001b[38;5;18m__class__\u001b[39m\u001b[38;5;241m.\u001b[39m\u001b[38;5;18m__name__\u001b[39m] \u001b[38;5;241m=\u001b[39m (est,acc)\n",
      "\u001b[1;31mNameError\u001b[0m: name 'models_list' is not defined"
     ]
    }
   ],
   "source": [
    "models_results = {}\n",
    "for model,params in zip(models_list,params_list):\n",
    "    est, acc = training_model(model,params,X_train_sc,y_train,X_test_sc, y_test)\n",
    "    models_results[est.__class__.__name__] = (est,acc)\n",
    "\n",
    "models_results\n",
    "        "
   ]
  },
  {
   "cell_type": "markdown",
   "id": "9e332407-2751-46af-92d1-3e1b6695c957",
   "metadata": {},
   "source": [
    "#### How we can see, Random forest have best score. Lets take it"
   ]
  },
  {
   "cell_type": "code",
   "execution_count": null,
   "id": "785e8aa6-1fca-4693-aeae-3cbf796d952f",
   "metadata": {},
   "outputs": [],
   "source": [
    "best_model = models_results['RandomForestClassifier'][0]\n",
    "best_model.fit()"
   ]
  },
  {
   "cell_type": "code",
   "execution_count": 17,
   "id": "ca209b4d-13c5-4fa6-9249-effea936fc09",
   "metadata": {},
   "outputs": [],
   "source": [
    "preds = models_results['RandomForestClassifier'][0].predict_proba(test)[:, 1]"
   ]
  },
  {
   "cell_type": "code",
   "execution_count": 18,
   "id": "86ec8ff8-6241-464c-ace7-1ea37039ddfe",
   "metadata": {},
   "outputs": [],
   "source": [
    "sub = pd.read_csv('sample_submission.csv')\n",
    "sub_pred = sub.copy()\n",
    "sub_pred[\"rainfall\"] = preds\n",
    "sub_pred[\"rainfall\"] = sub_pred[\"rainfall\"].astype('float')"
   ]
  },
  {
   "cell_type": "code",
   "execution_count": 19,
   "id": "4426ce09-378a-44f2-8266-53a3523d11ac",
   "metadata": {},
   "outputs": [],
   "source": [
    "sub_pred.to_csv('submission_2.csv', index=False)"
   ]
  },
  {
   "cell_type": "code",
   "execution_count": null,
   "id": "7f7c4f76-ba61-4847-9ef6-458cd577ccb2",
   "metadata": {},
   "outputs": [],
   "source": []
  }
 ],
 "metadata": {
  "kernelspec": {
   "display_name": "Python 3 (ipykernel)",
   "language": "python",
   "name": "python3"
  },
  "language_info": {
   "codemirror_mode": {
    "name": "ipython",
    "version": 3
   },
   "file_extension": ".py",
   "mimetype": "text/x-python",
   "name": "python",
   "nbconvert_exporter": "python",
   "pygments_lexer": "ipython3",
   "version": "3.10.11"
  }
 },
 "nbformat": 4,
 "nbformat_minor": 5
}
